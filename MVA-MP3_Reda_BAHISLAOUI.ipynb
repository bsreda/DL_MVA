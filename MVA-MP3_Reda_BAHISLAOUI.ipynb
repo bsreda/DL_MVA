{
 "cells": [
  {
   "cell_type": "markdown",
   "metadata": {},
   "source": [
    "**You may need to install [OpenCV](https://pypi.python.org/pypi/opencv-python) and [scikit-video](http://www.scikit-video.org/stable/).**"
   ]
  },
  {
   "cell_type": "code",
   "execution_count": 1,
   "metadata": {},
   "outputs": [
    {
     "name": "stderr",
     "output_type": "stream",
     "text": [
      "Using TensorFlow backend.\n"
     ]
    }
   ],
   "source": [
    "import keras\n",
    "import numpy as np\n",
    "import io\n",
    "import base64\n",
    "from IPython.display import HTML\n",
    "\n",
    "#These two lines were necessary for me, feel free to comment them if not necessary.\n",
    "import skvideo\n",
    "skvideo.setFFmpegPath(\"C:\\\\ffmpeg\\\\bin\")\n",
    "\n",
    "import skvideo.io\n",
    "import cv2\n",
    "import json\n",
    "\n",
    "from keras.models import Sequential,model_from_json\n",
    "from keras.layers.core import Dense\n",
    "from keras.optimizers import sgd\n",
    "from keras.layers import Flatten, Conv2D, MaxPooling2D, Activation, AveragePooling2D,Reshape,BatchNormalization"
   ]
  },
  {
   "cell_type": "markdown",
   "metadata": {},
   "source": [
    "# MiniProject #3: Deep Reinforcement Learning"
   ]
  },
  {
   "cell_type": "markdown",
   "metadata": {},
   "source": [
    "__Notations__: $E_p$ is the expectation under probability $p$. Please justify each of your answer and widely comment your code."
   ]
  },
  {
   "cell_type": "markdown",
   "metadata": {},
   "source": [
    "# Context"
   ]
  },
  {
   "cell_type": "markdown",
   "metadata": {},
   "source": [
    "In a reinforcement learning algorithm, we modelize each step $t$ as an action $a_t$ obtained from a state $s_t$, i.e. $\\{(a_{t},s_{t})_{t\\leq T}\\}$ having the Markov property. We consider a discount factor $\\gamma \\in [0,1]$ that ensures convergence. The goal is to find among all the policies $\\pi$, one that maximizes the expected reward:\n",
    "\n",
    "\\begin{equation*}\n",
    "R(\\pi)=\\sum_{t\\leq T}E_{p^{\\pi}}[\\gamma^t r(s_{t},a_{t})] \\> ,\n",
    "\\end{equation*}\n",
    "\n",
    "where: \n",
    "\\begin{equation*}p^{\\pi}(a_{0},a_{1},s_{1},...,a_{T},s_{T})=p(a_{0})\\prod_{t=1}^{T}\\pi(a_{t}|s_{t})p(s_{t+1}|s_{t},a_{t}) \\> .\n",
    "\\end{equation*}\n",
    "\n",
    "We note the $Q$-function:\n",
    "\n",
    "\\begin{equation*}Q^\\pi(s,a)=E_{p^{\\pi}}[\\sum_{t\\leq T}\\gamma^{t}r(s_{t},a_{t})|s_{0}=s,a_{0}=a] \\> .\n",
    "\\end{equation*}\n",
    "\n",
    "Thus, the optimal Q function is:\n",
    "\\begin{equation*}\n",
    "Q^*(s,a)=\\max_{\\pi}Q^\\pi(s,a) \\> .\n",
    "\\end{equation*}\n",
    "\n",
    "In this project, we will apply the deep reinforcement learning techniques to a simple game: an agent will have to learn from scratch a policy that will permit it maximizing a reward."
   ]
  },
  {
   "cell_type": "markdown",
   "metadata": {},
   "source": [
    "## The environment, the agent and the game"
   ]
  },
  {
   "cell_type": "markdown",
   "metadata": {},
   "source": [
    "### The environment"
   ]
  },
  {
   "cell_type": "markdown",
   "metadata": {},
   "source": [
    "```Environment``` is an abstract class that represents the states, rewards, and actions to obtain the new state."
   ]
  },
  {
   "cell_type": "code",
   "execution_count": 2,
   "metadata": {
    "collapsed": true
   },
   "outputs": [],
   "source": [
    "class Environment(object):\n",
    "    def __init__(self):\n",
    "        pass\n",
    "\n",
    "    def act(self, act):\n",
    "        \"\"\"\n",
    "        One can act on the environment and obtain its reaction:\n",
    "        - the new state\n",
    "        - the reward of the new state\n",
    "        - should we continue the game?\n",
    "\n",
    "        :return: state, reward, game_over\n",
    "        \"\"\"\n",
    "        pass\n",
    "\n",
    "\n",
    "    def reset(self):\n",
    "        \"\"\"\n",
    "        Reinitialize the environment to a random state and returns\n",
    "        the original state\n",
    "\n",
    "        :return: state\n",
    "        \"\"\"\n",
    "        pass\n",
    "    \n",
    "    def draw(self):\n",
    "        \"\"\"\n",
    "        Visualize in the console or graphically the current state\n",
    "        \"\"\"\n",
    "        pass"
   ]
  },
  {
   "cell_type": "markdown",
   "metadata": {},
   "source": [
    "The method ```act``` allows to act on the environment at a given state $s_t$ (stored internally), via action $a_t$. The method will return the new state $s_{t+1}$, the reward $r(s_{t},a_{t})$ and determines if $t\\leq T$ (*game_over*).\n",
    "\n",
    "The method ```reset``` simply reinitializes the environment to a random state $s_0$.\n",
    "\n",
    "The method ```draw``` displays the current state $s_t$ (this is useful to check the behavior of the Agent).\n",
    "\n",
    "We modelize $s_t$ as a tensor, while $a_t$ is an integer."
   ]
  },
  {
   "cell_type": "markdown",
   "metadata": {},
   "source": [
    "### The Agent"
   ]
  },
  {
   "cell_type": "markdown",
   "metadata": {},
   "source": [
    "The goal of the ```Agent``` is to interact with the ```Environment``` by proposing actions $a_t$ obtained from a given state $s_t$ to attempt to maximize its __reward__ $r(s_t,a_t)$. We propose the following abstract class:"
   ]
  },
  {
   "cell_type": "code",
   "execution_count": 3,
   "metadata": {
    "collapsed": true
   },
   "outputs": [],
   "source": [
    "class Agent(object):\n",
    "    def __init__(self, epsilon=0.1, n_action=4):\n",
    "        self.epsilon = epsilon\n",
    "        self.n_action = n_action\n",
    "    \n",
    "    def set_epsilon(self,e):\n",
    "        self.epsilon = e\n",
    "\n",
    "    def act(self,s,train=True):\n",
    "        \"\"\" This function should return the next action to do:\n",
    "        an integer between 0 and 4 (not included) with a random exploration of epsilon\"\"\"\n",
    "        if train:\n",
    "            if np.random.rand() <= self.epsilon:\n",
    "                a = np.random.randint(0, self.n_action, size=1)[0]\n",
    "            else:\n",
    "                a = self.learned_act(s)\n",
    "        else: # in some cases, this can improve the performance.. remove it if poor performances\n",
    "            a = self.learned_act(s)\n",
    "\n",
    "        return a\n",
    "\n",
    "    def learned_act(self,s):\n",
    "        \"\"\" Act via the policy of the agent, from a given state s\n",
    "        it proposes an action a\"\"\"\n",
    "        pass\n",
    "\n",
    "    def reinforce(self, s, n_s, a, r, game_over_):\n",
    "        \"\"\" This function is the core of the learning algorithm. \n",
    "        It takes as an input the current state s_, the next state n_s_\n",
    "        the action a_ used to move from s_ to n_s_ and the reward r_.\n",
    "        \n",
    "        Its goal is to learn a policy.\n",
    "        \"\"\"\n",
    "        pass\n",
    "\n",
    "    def save(self):\n",
    "        \"\"\" This function returns basic stats if applicable: the\n",
    "        loss and/or the model\"\"\"\n",
    "        pass\n",
    "\n",
    "    def load(self):\n",
    "        \"\"\" This function allows to restore a model\"\"\"\n",
    "        pass"
   ]
  },
  {
   "cell_type": "markdown",
   "metadata": {},
   "source": [
    "***\n",
    "__Question 1__:\n",
    "Explain the function act. Why is ```epsilon``` essential?"
   ]
  },
  {
   "cell_type": "markdown",
   "metadata": {},
   "source": [
    "> Epsilon is essential to allow exploration. In fact, choosing only the best learned action so far is not the best approach, since we might not have discovered enough the environment. Thus, we use an epsilon-greedy approach, ideally with a decreasing epsilon, so that we maximise exploration at the beginning, and exploitation at the end. "
   ]
  },
  {
   "cell_type": "markdown",
   "metadata": {},
   "source": [
    "***\n",
    "### The Game"
   ]
  },
  {
   "cell_type": "markdown",
   "metadata": {},
   "source": [
    "The ```Agent``` and the ```Environment``` work in an interlaced way as in the following (take some time to understand this code as it is the core of the project)\n",
    "\n",
    "```python\n",
    "\n",
    "epoch = 300\n",
    "env = Environment()\n",
    "agent = Agent()\n",
    "\n",
    "\n",
    "# Number of won games\n",
    "score = 0\n",
    "loss = 0\n",
    "\n",
    "\n",
    "for e in range(epoch):\n",
    "    # At each epoch, we restart to a fresh game and get the initial state\n",
    "    state = env.reset()\n",
    "    # This assumes that the games will end\n",
    "    game_over = False\n",
    "\n",
    "    win = 0\n",
    "    lose = 0\n",
    "    \n",
    "    while not game_over:\n",
    "        # The agent performs an action\n",
    "        action = agent.act(state)\n",
    "\n",
    "        # Apply an action to the environment, get the next state, the reward\n",
    "        # and if the games end\n",
    "        prev_state = state\n",
    "        state, reward, game_over = env.act(action)\n",
    "\n",
    "        # Update the counters\n",
    "        if reward > 0:\n",
    "            win = win + reward\n",
    "        if reward < 0:\n",
    "            lose = lose -reward\n",
    "\n",
    "        # Apply the reinforcement strategy\n",
    "        loss = agent.reinforce(prev_state, state,  action, reward, game_over)\n",
    "\n",
    "    # Save as a mp4\n",
    "    if e % 10 == 0:\n",
    "        env.draw(e)\n",
    "\n",
    "    # Update stats\n",
    "    score += win-lose\n",
    "\n",
    "    print(\"Epoch {:03d}/{:03d} | Loss {:.4f} | Win/lose count {}/{} ({})\"\n",
    "          .format(e, epoch, loss, win, lose, win-lose))\n",
    "    agent.save()\n",
    "```"
   ]
  },
  {
   "cell_type": "markdown",
   "metadata": {},
   "source": [
    "# The game, *eat cheese*"
   ]
  },
  {
   "cell_type": "markdown",
   "metadata": {},
   "source": [
    "A rat runs on an island and tries to eat as much as possible. The island is subdivided into $N\\times N$ cells, in which there are cheese (+0.5) and poisonous cells (-1). The rat has a visibility of 2 cells (thus it can see $5^2$ cells). The rat is given a time $T$ to accumulate as much food as possible. It can perform 4 actions: going up, down, left, right. \n",
    "\n",
    "The goal is to code an agent to solve this task that will learn by trial and error. We propose the following environment:"
   ]
  },
  {
   "cell_type": "code",
   "execution_count": 4,
   "metadata": {
    "collapsed": true
   },
   "outputs": [],
   "source": [
    "class Environment(object):\n",
    "    def __init__(self, grid_size=10, max_time=500, temperature=0.1):\n",
    "        grid_size = grid_size+4\n",
    "        self.grid_size = grid_size\n",
    "        self.max_time = max_time\n",
    "        self.temperature = temperature\n",
    "\n",
    "        #board on which one plays\n",
    "        self.board = np.zeros((grid_size,grid_size))\n",
    "        self.position = np.zeros((grid_size,grid_size))\n",
    "\n",
    "        # coordinate of the cat\n",
    "        self.x = 0\n",
    "        self.y = 1\n",
    "\n",
    "        # self time\n",
    "        self.t = 0\n",
    "\n",
    "        self.scale=16\n",
    "\n",
    "        self.to_draw = np.zeros((max_time+2, grid_size*self.scale, grid_size*self.scale, 3))\n",
    "\n",
    "\n",
    "    def draw(self,e):\n",
    "        skvideo.io.vwrite(str(e) + '.mp4', self.to_draw)\n",
    "\n",
    "    def get_frame(self,t):\n",
    "        b = np.zeros((self.grid_size,self.grid_size,3))+128\n",
    "        b[self.board>0,0] = 256\n",
    "        b[self.board < 0, 2] = 256\n",
    "        b[self.x,self.y,:]=256\n",
    "        b[-2:,:,:]=0\n",
    "        b[:,-2:,:]=0\n",
    "        b[:2,:,:]=0\n",
    "        b[:,:2,:]=0\n",
    "        \n",
    "        b =  cv2.resize(b, None, fx=self.scale, fy=self.scale, interpolation=cv2.INTER_NEAREST)\n",
    "\n",
    "        self.to_draw[t,:,:,:]=b\n",
    "\n",
    "\n",
    "    def act(self, action):\n",
    "        \"\"\"This function returns the new state, reward and decides if the\n",
    "        game ends.\"\"\"\n",
    "\n",
    "        self.get_frame(int(self.t))\n",
    "\n",
    "        self.position = np.zeros((self.grid_size, self.grid_size))\n",
    "\n",
    "        self.position[0:2,:]= -1\n",
    "        self.position[:,0:2] = -1\n",
    "        self.position[-2:, :] = -1\n",
    "        self.position[-2:, :] = -1\n",
    "\n",
    "        self.position[self.x, self.y] = 1\n",
    "        if action == 0:\n",
    "            if self.x == self.grid_size-3:\n",
    "                self.x = self.x-1\n",
    "            else:\n",
    "                self.x = self.x + 1\n",
    "        elif action == 1:\n",
    "            if self.x == 2:\n",
    "                self.x = self.x+1\n",
    "            else:\n",
    "                self.x = self.x-1\n",
    "        elif action == 2:\n",
    "            if self.y == self.grid_size - 3:\n",
    "                self.y = self.y - 1\n",
    "            else:\n",
    "                self.y = self.y + 1\n",
    "        elif action == 3:\n",
    "            if self.y == 2:\n",
    "                self.y = self.y + 1\n",
    "            else:\n",
    "                self.y = self.y - 1\n",
    "        else:\n",
    "            RuntimeError('Error: action not recognized')\n",
    "\n",
    "        self.t = self.t + 1\n",
    "        reward = self.board[self.x, self.y]\n",
    "        self.board[self.x, self.y] = 0\n",
    "        game_over = self.t > self.max_time\n",
    "        state = np.concatenate((self.board.reshape(self.grid_size, self.grid_size,1),\n",
    "                        self.position.reshape(self.grid_size, self.grid_size,1)),axis=2)\n",
    "        state = state[self.x-2:self.x+3,self.y-2:self.y+3,:]\n",
    "\n",
    "        return state, reward, game_over\n",
    "\n",
    "    def reset(self):\n",
    "        \"\"\"This function resets the game and returns the initial state\"\"\"\n",
    "\n",
    "        self.x = np.random.randint(3, self.grid_size-3, size=1)[0]\n",
    "        self.y = np.random.randint(3, self.grid_size-3, size=1)[0]\n",
    "\n",
    "\n",
    "        bonus = 0.5*np.random.binomial(1,self.temperature,size=self.grid_size**2)\n",
    "        bonus = bonus.reshape(self.grid_size,self.grid_size)\n",
    "\n",
    "        malus = -1.0*np.random.binomial(1,self.temperature,size=self.grid_size**2)\n",
    "        malus = malus.reshape(self.grid_size, self.grid_size)\n",
    "\n",
    "        self.to_draw = np.zeros((self.max_time+2, self.grid_size*self.scale, self.grid_size*self.scale, 3))\n",
    "\n",
    "\n",
    "        malus[bonus>0]=0\n",
    "\n",
    "        self.board = bonus + malus\n",
    "\n",
    "        self.position = np.zeros((self.grid_size, self.grid_size))\n",
    "        self.position[0:2,:]= -1\n",
    "        self.position[:,0:2] = -1\n",
    "        self.position[-2:, :] = -1\n",
    "        self.position[-2:, :] = -1\n",
    "        self.board[self.x,self.y] = 0\n",
    "        self.t = 0\n",
    "\n",
    "        state = np.concatenate((\n",
    "                               self.board.reshape(self.grid_size, self.grid_size,1),\n",
    "                        self.position.reshape(self.grid_size, self.grid_size,1)),axis=2)\n",
    "\n",
    "        state = state[self.x - 2:self.x + 3, self.y - 2:self.y + 3, :]\n",
    "        return state"
   ]
  },
  {
   "cell_type": "markdown",
   "metadata": {},
   "source": [
    "The following elements are important because they correspond to the hyper parameters for this project:"
   ]
  },
  {
   "cell_type": "code",
   "execution_count": 5,
   "metadata": {
    "collapsed": true
   },
   "outputs": [],
   "source": [
    "# parameters\n",
    "size = 13\n",
    "T=200\n",
    "temperature=0.3\n",
    "epochs_train=20 # set small when debugging\n",
    "epochs_test=10 # set small when debugging\n",
    "\n",
    "# display videos\n",
    "def display_videos(name):\n",
    "    video = io.open(name, 'r+b').read()\n",
    "    encoded = base64.b64encode(video)\n",
    "    return '''<video alt=\"test\" controls>\n",
    "                <source src=\"data:video/mp4;base64,{0}\" type=\"video/mp4\" />\n",
    "             </video>'''.format(encoded.decode('ascii'))"
   ]
  },
  {
   "cell_type": "markdown",
   "metadata": {},
   "source": [
    "__Question 2__ Explain the use of the arrays ```position``` and ```board```."
   ]
  },
  {
   "cell_type": "markdown",
   "metadata": {},
   "source": [
    "> - The position array is used to store positions of the rat. -1 corresponds to impossible cells, 1 corresponds to cells where the rat is or has been, and 0 corresponds to cells that the rat never visited.\n",
    "- The board array is used to store the rewards of each cell. If the rat visits a cell, it gets the reward from the board and the value is set to 0."
   ]
  },
  {
   "cell_type": "markdown",
   "metadata": {},
   "source": [
    "## Random Agent"
   ]
  },
  {
   "cell_type": "markdown",
   "metadata": {},
   "source": [
    "***\n",
    "__Question 3__ Implement a random Agent (only ```learned_act``` needs to be implemented):"
   ]
  },
  {
   "cell_type": "code",
   "execution_count": 6,
   "metadata": {
    "collapsed": true
   },
   "outputs": [],
   "source": [
    "class RandomAgent(Agent):\n",
    "    def __init__(self):\n",
    "        super(RandomAgent, self).__init__()\n",
    "        pass\n",
    "\n",
    "    def learned_act(self, s):\n",
    "        return np.random.randint(self.n_action)\n",
    "        "
   ]
  },
  {
   "cell_type": "markdown",
   "metadata": {},
   "source": [
    "***\n",
    "***\n",
    "__Question 4__ Visualize the game moves. You need to fill in the following function for the evaluation:"
   ]
  },
  {
   "cell_type": "code",
   "execution_count": 7,
   "metadata": {
    "collapsed": true
   },
   "outputs": [],
   "source": [
    "def test(agent,env,epochs,prefix=''):\n",
    "    # Number of won games\n",
    "    score = 0\n",
    "        \n",
    "    for e in range(epochs):\n",
    "        \n",
    "        ##### FILL IN HERE\n",
    "        state = env.reset()\n",
    "        game_over = False\n",
    "\n",
    "        win = 0\n",
    "        lose = 0\n",
    "\n",
    "        while not game_over:\n",
    "            # The agent performs an action\n",
    "            action = agent.act(state)\n",
    "\n",
    "            # Apply an action to the environment, get the next state, the reward\n",
    "            # and if the games end\n",
    "            prev_state = state\n",
    "            state, reward, game_over = env.act(action)\n",
    "\n",
    "            # Update the counters\n",
    "            if reward > 0:\n",
    "                win = win + reward\n",
    "            if reward < 0:\n",
    "                lose = lose -reward\n",
    "\n",
    "            # Apply the reinforcement strategy\n",
    "            loss = agent.reinforce(prev_state, state,  action, reward, game_over)\n",
    "\n",
    "        # Save as a mp4\n",
    "        env.draw(prefix+str(e))\n",
    "\n",
    "        # Update stats\n",
    "        score = score + win-lose\n",
    "\n",
    "        print(\"Win/lose count {}/{}. Average score ({})\"\n",
    "              .format(win, lose, score/(1+e)))\n",
    "    print('Final score: '+str(score/epochs))"
   ]
  },
  {
   "cell_type": "code",
   "execution_count": 8,
   "metadata": {},
   "outputs": [
    {
     "name": "stdout",
     "output_type": "stream",
     "text": [
      "Win/lose count 9.0/12.0. Average score (-3.0)\n",
      "Win/lose count 10.0/12.0. Average score (-2.5)\n",
      "Win/lose count 7.5/19.0. Average score (-5.5)\n",
      "Win/lose count 9.5/14.0. Average score (-5.25)\n",
      "Win/lose count 5.0/11.0. Average score (-5.4)\n",
      "Win/lose count 7.5/17.0. Average score (-6.083333333333333)\n",
      "Win/lose count 14.5/16.0. Average score (-5.428571428571429)\n",
      "Win/lose count 7.5/10.0. Average score (-5.0625)\n",
      "Win/lose count 10.0/19.0. Average score (-5.5)\n",
      "Win/lose count 10.0/18.0. Average score (-5.75)\n",
      "Final score: -5.75\n"
     ]
    },
    {
     "data": {
      "text/html": [
       "<video alt=\"test\" controls>\n",
       "                <source src=\"data:video/mp4;base64,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\" type=\"video/mp4\" />\n",
       "             </video>"
      ],
      "text/plain": [
       "<IPython.core.display.HTML object>"
      ]
     },
     "execution_count": 8,
     "metadata": {},
     "output_type": "execute_result"
    }
   ],
   "source": [
    "# Initialize the game\n",
    "env = Environment(grid_size=size, max_time=T,temperature=temperature)\n",
    "\n",
    "# Initialize the agent!\n",
    "agent = RandomAgent()\n",
    "\n",
    "test(agent,env,epochs_test,prefix='random')\n",
    "HTML(display_videos('random0.mp4'))"
   ]
  },
  {
   "cell_type": "markdown",
   "metadata": {},
   "source": [
    "***\n",
    "## DQN"
   ]
  },
  {
   "cell_type": "markdown",
   "metadata": {},
   "source": [
    "Let us assume here that $T=\\infty$.\n",
    "\n",
    "***\n",
    "__Question 5__ Let $\\pi$ be a policy, show that:\n",
    "\n",
    "\\begin{equation*}\n",
    "Q^{\\pi}(s,a)=E_{(s',a')\\sim p(.|s,a)}[r(s,a)+\\gamma Q^{\\pi}(s',a')]\n",
    "\\end{equation*}\n",
    "\n",
    "Then, show that for the optimal policy $\\pi^*$ (we assume its existence), the following holds: \n",
    "\n",
    "\\begin{equation*}\n",
    "Q^{*}(s,a)=E_{s'\\sim \\pi^*(.|s,a)}[r(s,a)+\\gamma\\max_{a'}Q^{*}(s',a')].\n",
    "\\end{equation*}\n",
    "Finally, deduce that a plausible objective is:\n",
    "\n",
    "\\begin{equation*}\n",
    "\\mathcal{L}(\\theta)=E_{s' \\sim \\pi^*(.|s,a)}\\Vert r+\\gamma\\max\\max_{a'}Q(s',a',\\theta)-Q(s,a,\\theta)\\Vert^{2}.\n",
    "\\end{equation*}\n",
    "\n",
    "\n"
   ]
  },
  {
   "cell_type": "markdown",
   "metadata": {},
   "source": [
    "> - We have that, because of the conditionning and $T=\\infty$ : \n",
    "$$\\begin{equation}\\begin{aligned} Q^\\pi(s,a)&=E_{p^{\\pi}}[\\sum_{0\\leq t\\leq T}\\gamma^{t}r(s_{t},a_{t})|s_{0}=s,a_{0}=a]\n",
    "\\\\ & = E_{p^{\\pi}}[r(s_0,a_0) + \\sum_{1 \\leq t\\leq T}\\gamma^{t}r(s_{t},a_{t})|s_{0}=s,a_{0}=a] \\\\ & = E_{p^{\\pi}}[r(s,a) + \\gamma\\sum_{0\\leq t\\leq T}\\gamma^{t}r(s_{t+1},a_{t+1})|s_{0}=s,a_{0}=a] \\end{aligned} \\end{equation}$$\n",
    "But the second term is exactly  $E_{(s',a')\\sim p(.|s,a)}[\\gamma Q^{\\pi}(s',a')]$, and thus :  $$Q^\\pi(s,a) =E_{(s',a')\\sim p(.|s,a)}[r(s,a)+\\gamma Q^{\\pi}(s',a')]  $$\n",
    "- By definition, and the previous question, we know that : $$Q^{*}(s,a) = \\max_{\\pi} Q^{\\pi}(s,a) = \\max_{\\pi} E_{(s',a')\\sim p(.|s,a)}[r(s,a)+\\gamma Q^{\\pi}(s',a')]$$\n",
    "But this maximum is reached with the optimal policy is $\\pi^*$, and the next state is sampled according to it:  $s'\\sim \\pi^*(.|s,a)$. Thus, it is equivalent to maximise along the action $a'$ to obtain the max :\n",
    "$$ Q^{*}(s,a) =E_{s'\\sim \\pi^*(.|s,a)}[r(s,a)+\\gamma\\max_{a'}Q^{*}(s',a')] $$\n",
    "- Finally, we want to get as close as possible to $Q^*$, which verifies the equality above. Hence, we want to train our parameter $\\theta$ so that we get $$Q(s,a,\\theta) \\approx E_{s' \\sim \\pi^*(.|s,a)}[r+\\gamma\\max_{a'}Q(s',a',\\theta) ]$$\n",
    "Thus, a plausible objective is : $\\begin{equation*}\n",
    "\\mathcal{L}(\\theta)=E_{s' \\sim \\pi^*(.|s,a)}\\Vert r+\\gamma\\max_{a'}Q(s',a',\\theta)-Q(s,a,\\theta)\\Vert^{2}.\n",
    "\\end{equation*}$"
   ]
  },
  {
   "cell_type": "markdown",
   "metadata": {},
   "source": [
    "***\n",
    "The DQN-learning algorithm relies on these derivations to train the parameters $\\theta$ of a Deep Neural Network:\n",
    "\n",
    "1. At the state $s_t$, select the action $a_t$ with best reward using $Q_t$ and store the results;\n",
    "\n",
    "2. Obtain the new state $s_{t+1}$ from the environment $p$;\n",
    "\n",
    "3. Store $(s_t,a_t,s_{t+1})$;\n",
    "\n",
    "4. Obtain $Q_{t+1}$ by minimizing  $\\mathcal{L}$ from a recovered batch from the previously stored results.\n",
    "\n",
    "***\n",
    "__Question 6__ Implement the class ```Memory``` that stores moves (in a replay buffer) via ```remember``` and provides a ```random_access``` to these. Specify a maximum memory size to avoid side effects. You can for example use a ```list()``` and set by default ```max_memory=100```."
   ]
  },
  {
   "cell_type": "code",
   "execution_count": 9,
   "metadata": {
    "collapsed": true
   },
   "outputs": [],
   "source": [
    "class Memory(object):\n",
    "    def __init__(self, max_memory=100):\n",
    "        self.max_memory = max_memory\n",
    "        self.memory = list()\n",
    "\n",
    "    def remember(self, m):\n",
    "        if(len(self.memory) < self.max_memory):\n",
    "            self.memory.append(m)\n",
    "        else:\n",
    "            self.memory.pop(0)\n",
    "            self.memory.append(m)\n",
    "\n",
    "    def random_access(self):\n",
    "        return self.memory[np.random.randint(len(self.memory))]"
   ]
  },
  {
   "cell_type": "markdown",
   "metadata": {},
   "source": [
    "***\n",
    "The pipeline we will use for training is given below:"
   ]
  },
  {
   "cell_type": "code",
   "execution_count": 10,
   "metadata": {
    "collapsed": true
   },
   "outputs": [],
   "source": [
    "def train(agent,env,epoch,prefix=''):\n",
    "    # Number of won games\n",
    "    score = 0\n",
    "    loss = 0\n",
    "\n",
    "    for e in range(epoch):\n",
    "        # At each epoch, we restart to a fresh game and get the initial state\n",
    "        state = env.reset()\n",
    "        # This assumes that the games will terminate\n",
    "        game_over = False\n",
    "\n",
    "        win = 0\n",
    "        lose = 0\n",
    "\n",
    "        while not game_over:\n",
    "            # The agent performs an action\n",
    "            action = agent.act(state)\n",
    "\n",
    "            # Apply an action to the environment, get the next state, the reward\n",
    "            # and if the games end\n",
    "            prev_state = state\n",
    "            state, reward, game_over = env.act(action)\n",
    "                 \n",
    "            #penalize going to empy cells\n",
    "            #if reward == 0:\n",
    "            #    reward = -0.1\n",
    "\n",
    "            # Update the counters\n",
    "            if reward > 0:\n",
    "                win = win + reward\n",
    "            if reward < 0:\n",
    "                lose = lose -reward\n",
    "            \n",
    "                \n",
    "\n",
    "            # Apply the reinforcement strategy\n",
    "            loss = agent.reinforce(prev_state, state,  action, reward, game_over)\n",
    "\n",
    "        # Save as a mp4\n",
    "        if e % 10 == 0:\n",
    "            env.draw(prefix+str(e))\n",
    "\n",
    "        # Update stats\n",
    "        score += win-lose\n",
    "\n",
    "        print(\"Epoch {:03d}/{:03d} | Loss {:.4f} | Win/lose count {}/{} ({})\"\n",
    "              .format(e, epoch, loss, win, lose, win-lose))\n",
    "        agent.save(name_weights=prefix+'model.h5',name_model=prefix+'model.json')"
   ]
  },
  {
   "cell_type": "markdown",
   "metadata": {},
   "source": [
    "***\n",
    "__Question 7__ Implement the DQN training algorithm using a cascade of fully connected layers. You can use different learning rate, batch size or memory size parameters. In particular, the loss might oscillate while the player will start to win the games. You have to find a good criterium."
   ]
  },
  {
   "cell_type": "code",
   "execution_count": 11,
   "metadata": {
    "collapsed": true
   },
   "outputs": [],
   "source": [
    "class DQN(Agent):\n",
    "    def __init__(self, grid_size,  epsilon = 0.1, memory_size=100, batch_size = 16,n_state=2):\n",
    "        super(DQN, self).__init__(epsilon = epsilon)\n",
    "\n",
    "        # Discount for Q learning\n",
    "        self.discount = 0.99\n",
    "        \n",
    "        self.grid_size = grid_size\n",
    "        \n",
    "        # number of state\n",
    "        self.n_state = n_state\n",
    "\n",
    "        # Memory\n",
    "        self.memory = Memory(memory_size)\n",
    "        \n",
    "        # Batch size when learning\n",
    "        self.batch_size = batch_size\n",
    "\n",
    "    def learned_act(self, s):\n",
    "        s = s.reshape(1,5,5,self.n_state)\n",
    "        return np.argmax(self.model.predict(s))\n",
    "\n",
    "    def reinforce(self, s_, n_s_, a_, r_, game_over_):\n",
    "        # Two steps: first memorize the states, second learn from the pool\n",
    "\n",
    "        self.memory.remember([s_, n_s_, a_, r_, game_over_])\n",
    "        input_states = np.zeros((self.batch_size, 5,5,self.n_state))\n",
    "        target_q = np.zeros((self.batch_size, 4))\n",
    "        \n",
    "        for i in range(self.batch_size):\n",
    "            ######## FILL IN\n",
    "            s_, n_s_, a_, r_, game_over_ = self.memory.random_access()\n",
    "            input_states[i] = s_\n",
    "            target_q[i] = self.model.predict(s_[np.newaxis,:])\n",
    "            \n",
    "            if game_over_:\n",
    "                ######## FILL IN\n",
    "                target_q[i, int(a_)] = r_ \n",
    "            else:\n",
    "                n_s_ = n_s_.reshape(1,5,5,self.n_state)\n",
    "                target_q[i, int(a_)] = r_ + self.discount * np.max(self.model.predict(n_s_))\n",
    "                ######## FILL IN\n",
    "        ######## FILL IN\n",
    "        # HINT: Clip the target to avoid exploiding gradients.. -- clipping is a bit tighter\n",
    "        target_q = np.clip(target_q, -3, 3)\n",
    "\n",
    "        l = self.model.train_on_batch(input_states, target_q)\n",
    "\n",
    "\n",
    "        return l\n",
    "\n",
    "    def save(self,name_weights='model.h5',name_model='model.json'):\n",
    "        self.model.save_weights(name_weights, overwrite=True)\n",
    "        with open(name_model, \"w\") as outfile:\n",
    "            json.dump(self.model.to_json(), outfile)\n",
    "            \n",
    "    def load(self,name_weights='model.h5',name_model='model.json'):\n",
    "        with open(name_model, \"r\") as jfile:\n",
    "            model = model_from_json(json.load(jfile))\n",
    "        model.load_weights(name_weights)\n",
    "        model.compile(\"sgd\", \"mse\")\n",
    "        self.model = model\n",
    "\n",
    "            \n",
    "class DQN_FC(DQN):\n",
    "    def __init__(self, *args, lr=0.1,**kwargs):\n",
    "        super(DQN_FC, self).__init__( *args,**kwargs)\n",
    "        \n",
    "        # NN Model\n",
    "        \n",
    "        ####### FILL IN\n",
    "        model = Sequential()\n",
    "        model.add(Dense(units=32, activation='relu', input_shape=(5,5,self.n_state)))\n",
    "        model.add(Flatten())\n",
    "        model.add(Dense(units=16, activation='relu'))\n",
    "        model.add(Dense(units=4, activation='linear')) # 4 actions\n",
    "        \n",
    "        model.compile(sgd(lr=lr, decay=1e-4, momentum=0.0), \"mse\")\n",
    "        self.model = model\n",
    "        "
   ]
  },
  {
   "cell_type": "code",
   "execution_count": 12,
   "metadata": {},
   "outputs": [
    {
     "name": "stdout",
     "output_type": "stream",
     "text": [
      "Epoch 000/020 | Loss 0.0091 | Win/lose count 3.5/12.0 (-8.5)\n",
      "Epoch 001/020 | Loss 0.0063 | Win/lose count 2.5/3.0 (-0.5)\n",
      "Epoch 002/020 | Loss 0.0059 | Win/lose count 4.5/2.0 (2.5)\n",
      "Epoch 003/020 | Loss 0.0042 | Win/lose count 4.0/6.0 (-2.0)\n",
      "Epoch 004/020 | Loss 0.0100 | Win/lose count 11.0/9.0 (2.0)\n",
      "Epoch 005/020 | Loss 0.0509 | Win/lose count 5.0/4.0 (1.0)\n",
      "Epoch 006/020 | Loss 0.0060 | Win/lose count 3.5/3.0 (0.5)\n",
      "Epoch 007/020 | Loss 0.0100 | Win/lose count 4.0/6.0 (-2.0)\n",
      "Epoch 008/020 | Loss 0.0511 | Win/lose count 3.5/1.0 (2.5)\n",
      "Epoch 009/020 | Loss 0.0024 | Win/lose count 3.0/3.0 (0.0)\n",
      "Epoch 010/020 | Loss 0.0018 | Win/lose count 4.5/3.0 (1.5)\n",
      "Epoch 011/020 | Loss 0.0020 | Win/lose count 10.0/6.0 (4.0)\n",
      "Epoch 012/020 | Loss 0.0013 | Win/lose count 12.5/5.0 (7.5)\n",
      "Epoch 013/020 | Loss 0.0032 | Win/lose count 9.0/2.0 (7.0)\n",
      "Epoch 014/020 | Loss 0.0024 | Win/lose count 7.0/3.0 (4.0)\n",
      "Epoch 015/020 | Loss 0.0031 | Win/lose count 11.5/6.0 (5.5)\n",
      "Epoch 016/020 | Loss 0.0023 | Win/lose count 8.5/2.0 (6.5)\n",
      "Epoch 017/020 | Loss 0.0020 | Win/lose count 13.0/4.0 (9.0)\n",
      "Epoch 018/020 | Loss 0.0594 | Win/lose count 10.0/4.0 (6.0)\n",
      "Epoch 019/020 | Loss 0.0012 | Win/lose count 7.5/2.0 (5.5)\n"
     ]
    },
    {
     "data": {
      "text/html": [
       "<video alt=\"test\" controls>\n",
       "                <source src=\"data:video/mp4;base64,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\" type=\"video/mp4\" />\n",
       "             </video>"
      ],
      "text/plain": [
       "<IPython.core.display.HTML object>"
      ]
     },
     "execution_count": 12,
     "metadata": {},
     "output_type": "execute_result"
    }
   ],
   "source": [
    "env = Environment(grid_size=size, max_time=T, temperature=0.3)\n",
    "agent = DQN_FC(size, lr=.1, epsilon = 0.1, memory_size=2000, batch_size = 32)\n",
    "train(agent, env, epochs_train, prefix='fc_train')\n",
    "HTML(display_videos('fc_train0.mp4'))"
   ]
  },
  {
   "cell_type": "markdown",
   "metadata": {},
   "source": [
    "***\n",
    "***\n",
    "__Question 8__ Implement the DQN training algorithm using a CNN (for example, 2 convolutional layers and one final fully connected layer)."
   ]
  },
  {
   "cell_type": "code",
   "execution_count": 13,
   "metadata": {
    "collapsed": true
   },
   "outputs": [],
   "source": [
    "class DQN_CNN(DQN):\n",
    "    def __init__(self, *args,lr=0.1,**kwargs):\n",
    "        super(DQN_CNN, self).__init__(*args,**kwargs)\n",
    "        \n",
    "        ###### FILL IN\n",
    "        model = Sequential()\n",
    "        model.add(Conv2D(32, (3, 3), activation='relu',input_shape=(5, 5, self.n_state)))\n",
    "        model.add(Conv2D(16, (3, 3), activation='relu'))\n",
    "        model.add(Flatten())\n",
    "        model.add(Dense(units=4, activation='linear'))\n",
    "        \n",
    "        model.compile(sgd(lr=lr, decay=1e-4, momentum=0.0), \"mse\")\n",
    "        self.model = model"
   ]
  },
  {
   "cell_type": "code",
   "execution_count": 14,
   "metadata": {},
   "outputs": [
    {
     "name": "stdout",
     "output_type": "stream",
     "text": [
      "Epoch 000/020 | Loss 0.0047 | Win/lose count 4.5/4.0 (0.5)\n",
      "Epoch 001/020 | Loss 0.0010 | Win/lose count 3.0/5.0 (-2.0)\n",
      "Epoch 002/020 | Loss 0.0053 | Win/lose count 4.0/2.0 (2.0)\n",
      "Epoch 003/020 | Loss 0.0077 | Win/lose count 4.0/4.0 (0.0)\n",
      "Epoch 004/020 | Loss 0.0140 | Win/lose count 2.0/1.0 (1.0)\n",
      "Epoch 005/020 | Loss 0.0060 | Win/lose count 3.0/1.0 (2.0)\n",
      "Epoch 006/020 | Loss 0.0028 | Win/lose count 5.0/4.0 (1.0)\n",
      "Epoch 007/020 | Loss 0.0020 | Win/lose count 2.5/1.0 (1.5)\n",
      "Epoch 008/020 | Loss 0.0045 | Win/lose count 4.0/3.0 (1.0)\n",
      "Epoch 009/020 | Loss 0.0014 | Win/lose count 6.0/3.0 (3.0)\n",
      "Epoch 010/020 | Loss 0.0023 | Win/lose count 2.0/0 (2.0)\n",
      "Epoch 011/020 | Loss 0.0035 | Win/lose count 4.5/1.0 (3.5)\n",
      "Epoch 012/020 | Loss 0.0027 | Win/lose count 3.0/2.0 (1.0)\n",
      "Epoch 013/020 | Loss 0.0014 | Win/lose count 2.5/1.0 (1.5)\n",
      "Epoch 014/020 | Loss 0.0016 | Win/lose count 3.5/2.0 (1.5)\n",
      "Epoch 015/020 | Loss 0.0027 | Win/lose count 3.5/3.0 (0.5)\n",
      "Epoch 016/020 | Loss 0.0026 | Win/lose count 2.5/2.0 (0.5)\n",
      "Epoch 017/020 | Loss 0.0028 | Win/lose count 5.0/1.0 (4.0)\n",
      "Epoch 018/020 | Loss 0.0043 | Win/lose count 9.5/0 (9.5)\n",
      "Epoch 019/020 | Loss 0.0024 | Win/lose count 6.5/5.0 (1.5)\n"
     ]
    },
    {
     "data": {
      "text/html": [
       "<video alt=\"test\" controls>\n",
       "                <source src=\"data:video/mp4;base64,AAAAIGZ0eXBpc29tAAACAGlzb21pc28yYXZjMW1wNDEAAAAIZnJlZQAAFthtZGF0AAACrQYF//+p3EXpvebZSLeWLNgg2SPu73gyNjQgLSBjb3JlIDE1NyByMjkzNSA1NDVkZTJmIC0gSC4yNjQvTVBFRy00IEFWQyBjb2RlYyAtIENvcHlsZWZ0IDIwMDMtMjAxOCAtIGh0dHA6Ly93d3cudmlkZW9sYW4ub3JnL3gyNjQuaHRtbCAtIG9wdGlvbnM6IGNhYmFjPTEgcmVmPTMgZGVibG9jaz0xOjA6MCBhbmFseXNlPTB4MToweDExMSBtZT1oZXggc3VibWU9NyBwc3k9MSBwc3lfcmQ9MS4wMDowLjAwIG1peGVkX3JlZj0xIG1lX3JhbmdlPTE2IGNocm9tYV9tZT0xIHRyZWxsaXM9MSA4eDhkY3Q9MCBjcW09MCBkZWFkem9uZT0yMSwxMSBmYXN0X3Bza2lwPTEgY2hyb21hX3FwX29mZnNldD00IHRocmVhZHM9NiBsb29rYWhlYWRfdGhyZWFkcz0xIHNsaWNlZF90aHJlYWRzPTAgbnI9MCBkZWNpbWF0ZT0xIGludGVybGFjZWQ9MCBibHVyYXlfY29tcGF0PTAgY29uc3RyYWluZWRfaW50cmE9MCBiZnJhbWVzPTMgYl9weXJhbWlkPTIgYl9hZGFwdD0xIGJfYmlhcz0wIGRpcmVjdD0xIHdlaWdodGI9MSBvcGVuX2dvcD0wIHdlaWdodHA9MiBrZXlpbnQ9MjUwIGtleWludF9taW49MjUgc2NlbmVjdXQ9NDAgaW50cmFfcmVmcmVzaD0wIHJjX2xvb2thaGVhZD00MCByYz1jcmYgbWJ0cmVlPTEgY3JmPTIzLjAgcWNvbXA9MC42MCBxcG1pbj0wIHFwbWF4PTY5IHFwc3RlcD00IGlwX3JhdGlvPTEuNDAgYXE9MToxLjAwAIAAAALzZYiEADP//vaG+BTYUyP+T7/8I/+5H7cfWfrixkIJvrVeQ9GAMl8a/5lGYaXpyc8t7R+vTNAEZz8ZS8pZp9o/ApmtrL5lb/b/qdntJy2JRlKnFYxqzhCsjhdlWaRFvZoVUUtizQqkATIyZZ82lgilD5xVeBSxImp5PhSm9odiLaw8h0igl5Eg2R1nMjQC9xNvVisEI3WZpOhnmO5q60Gra5YYTQTHS7fX/kaWm5EdJqwkNqMhYiHTj57SlgOSzftiH81Q4cXPHU9M5Eyjc1iHIW6MGVelaw4cxLLFlPHuM4hgR8gICKBTy1wBQWMrph4NQ4wAVJsatG9KOE2spdvY2nlg6lieoqcVE+a8OvLS6ggKiOLpBkZfwAzFVNZBt6jMMjEsW8mP8zEL8tCDEoFkOd/DZzqKcQwisOSzHmMh1ZIP0kVXaLaKo2H48cElB5I+L2QqaNq92kKTUOqVc968FqdPuYYOIgg6wg7aahEhAE0CEACl0ACZbvcTOXpozXkdiiDaVbGEjWquajzU2CrH9wxFRMcztV9EPwXZ5CIs16eGH14YTbWupIGu9C7rQOA/KTvCDiIayHBgABp2/UQEftpk5vlIavaR+ynGEjGJEp63L2h6wdsAU0LkYjHGSrjhR8LlV273ZAww0s7J1GWVHT97ZL3Otnkm9zh7lI5SLALWqIAOtVaFvWwbxMTx7ok0HvnE1xQK6d0PjZgwwU1fOr4qvhdCbc1XN+iZeiAB3je63pV/invBSIB3iHoyYZKIELufJqJ2HfkWHUKkyAJssR37zZWPLAAqzu/1KWyDtWrFD7cxyclymvB1HnrClpMDEThIyD8Z6xCvzbX2vFmQ6xvjqI5VpIEVXvIfX1tNL98kgHrHVMzewDgBM5yJIyOc6ay3dLGJCv9HyqDXsh5a4WlAI47WvPK70BxatH659sODeJdUcVg7KdnJYMkz8VWsZHAT4iA6Y60eUyUDObRX8aij6TjxECICu4OAzQMrTAAAZEEAAAAVQZohbEM//p4QAEVJe4GwRgOyuuaoAAAAF0GaQjwhkymEM//+nhAAQ75zfbIY+sOVAAAAGEGaY0nhDyZTAhn//p4QAC1V7jQum+67XAAAABhBmoRJ4Q8mUwIb//6nhAAL66tIIRP8t8MAAAAZQZqlSeEPJlMCG//+p4QAC/++z6jjQkPFwQAAABlBmsZJ4Q8mUwId//6plgAD1e0v53SFMJ8xAAAAFkGa6knhDyZTAh3//qmWAAGg+FH3c2EAAAAOQZ8IRRE8L/8AAeX98iAAAAAQAZ8ndEK/AAPuob2XVfxbQAAAABABnylqQr8AA+6hvYrR92NBAAAAGkGbLUmoQWiZTAh3//6plgAChe+r67EG4r1wAAAAD0GfS0URLCv/AAP4D/nXoAAAAA0Bn2xqQr8AA/lgUDbvAAAAH0GbcEmoQWyZTAh3//6plgACqe7FzLLPn25dDc7yHoEAAAASQZ+ORRUsK/8ABDdob/Ybzs03AAAADwGfr2pCvwAEN2I8mB6+3wAAABdBm7RJqEFsmUwId//+qZYAAbT4Ufdw4AAAAA5Bn9JFFSwv/wAB+/3voQAAABABn/F0Qr8ABClSO/AB913AAAAAEAGf82pCvwAEKVI72ePuu4AAAAATQZv4SahBbJlMCHf//qmWAACVgQAAAAxBnhZFFSwv/wAAsoAAAAAQAZ41dEK/AAaayrur8d424QAAABABnjdqQr8ABClSO9nj7ruBAAAAE0GaPEmoQWyZTAh3//6plgAAlYAAAAAMQZ5aRRUsL/8AALKBAAAAEAGeeXRCvwAEKVI78AH3XcAAAAAQAZ57akK/AAQpUjvZ4+67gQAAACdBmmBJqEFsmUwId//+qZYAAs3xoOZZWqarwKUSBeBTNcue1besaqEAAAAQQZ6eRRUsL/8AA0ytMgoLIAAAAA8Bnr10Qr8ABDbRi4D8+cAAAAAQAZ6/akK/AAR3YjyXM+WMgQAAABdBmqRJqEFsmUwId//+qZYAAccdPyts0AAAAA5BnsJFFSwv/wACG0A1IQAAABABnuF0Qr8ABGlSO/AB91hAAAAAEAGe42pCvwAEaVI72ePusIEAAAATQZroSahBbJlMCHf//qmWAACVgQAAAAxBnwZFFSwv/wAAsoEAAAAQAZ8ldEK/AARpUjvwAfdYQQAAABABnydqQr8ABGlSO9nj7rCAAAAAE0GbLEmoQWyZTAh3//6plgAAlYAAAAAMQZ9KRRUsL/8AALKBAAAAEAGfaXRCvwAEaVI78AH3WEAAAAAQAZ9rakK/AARpUjvZ4+6wgAAAABNBm3BJqEFsmUwId//+qZYAAJWBAAAADEGfjkUVLC//AACygQAAABABn610Qr8ABGlSO/AB91hBAAAAEAGfr2pCvwAEaVI72ePusIAAAAATQZu0SahBbJlMCHf//qmWAACVgAAAAAxBn9JFFSwv/wAAsoEAAAAQAZ/xdEK/AARpUjvwAfdYQAAAABABn/NqQr8ABGlSO9nj7rCAAAAAE0Gb+EmoQWyZTAh3//6plgAAlYEAAAAMQZ4WRRUsL/8AALKAAAAAEAGeNXRCvwAEaVI78AH3WEEAAAAQAZ43akK/AARpUjvZ4+6wgQAAABNBmjxJqEFsmUwId//+qZYAAJWAAAAADEGeWkUVLC//AACygQAAABABnnl0Qr8ABGlSO/AB91hAAAAAEAGee2pCvwAEaVI72ePusIEAAAAcQZpgSahBbJlMCG///qeEAAWP3U/daWZqbdF2yQAAABVBnp5FFSwv/wADTCOOAMoafRZXdLgAAAAPAZ69dEK/AAR12UKTbJa3AAAAEAGev2pCvwAC/OqeS5nzCoEAAAAiQZqkSahBbJlMCG///qeEAAk3yPrnMsq/7rj7tZGnrS6zNwAAABdBnsJFFSwv/wAFioNeJxXK4+fl3Ff7QQAAABABnuF0Qr8ABxYxHAdMp3+AAAAAEAGe42pCvwAHbZg8lzPlKYEAAAAoQZrmSahBbJlMFEwz//6eEAAl3xZfLgU19Qr5liWC+ZZNg6dz3dTpqQAAABABnwVqQr8AB8WYPJcz5SGBAAAAGUGbB0nhClJlMCG//qeEAAmqATRREAci69EAAAAaQZsoSeEOiZTAhv/+p4QABk/ZWGJ/CcFuhkMAAAAbQZtLSeEPJlMCG//+p4QAA/vsrAhPXsz4IzuAAAAAEEGfaUURPCv/AAUflX0PKi0AAAAOAZ+KakK/AAUdt13HhUIAAAAaQZuMSahBaJlMCG///qeEAAYekT/Vb5j8g8AAAAAZQZutSeEKUmUwId/+qZYABMEWG6MQjn2d4QAAABpBm9FJ4Q6JlMCHf/6plgAEx+jn5mwG/K4/UQAAABBBn+9FETwv/wAFrZYqEG2RAAAAEAGeDnRCvwAHxbA1tMoe5cAAAAAPAZ4QakK/AAfE1DoWjfLAAAAAEkGaFUmoQWiZTAhv//6nhAABJwAAAAxBnjNFESwv/wAAsoAAAAAQAZ5SdEK/AAUOyjvwAfdLwAAAABABnlRqQr8ABQ7KO9nj7peBAAAAHEGaWEmoQWyZTAhv//6nhAAGT9lYEJ69mfBGHYAAAAASQZ52RRUsK/8ABR2wBAKYB3LBAAAAEAGel2pCvwAE+siE3GfXsMkAAAAaQZqZSahBbJlMCHf//qmWAATBFhujEI59neAAAAAcQZq7SeEKUmUwUVLDv/6plgAEx+jn5mwG/K4/UQAAABABntpqQr8AB8VcGuPFW3LgAAAAEkGa30nhDomUwId//qmWAACVgQAAAAxBnv1FFTwv/wAAsoEAAAAQAZ8cdEK/AAUOyjvwAfdLwAAAABABnx5qQr8ABQ7KO9nj7peAAAAAE0GbA0moQWiZTAh3//6plgAAlYEAAAAMQZ8hRREsL/8AALKAAAAAEAGfQHRCvwAFDso78AH3S8EAAAAQAZ9CakK/AAUOyjvZ4+6XgAAAABNBm0dJqEFsmUwId//+qZYAAJWBAAAADEGfZUUVLC//AACygQAAABABn4R0Qr8ABQ7KO/AB90vBAAAAEAGfhmpCvwAFDso72ePul4EAAAATQZuLSahBbJlMCHf//qmWAACVgAAAAAxBn6lFFSwv/wAAsoAAAAAQAZ/IdEK/AAUOyjvwAfdLwQAAABABn8pqQr8ABQ7KO9nj7peAAAAAHEGbz0moQWyZTAhv//6nhAAGT9g/zlOvCjW5l7gAAAAQQZ/tRRUsL/8AA7adO/zsKQAAAA8Bngx0Qr8ABR4xi4D87aEAAAAQAZ4OakK/AAUdr5zrQwwuQQAAABlBmhNJqEFsmUwIb//+p4QABkbUHdvsH7E+AAAAEEGeMUUVLC//AAO1/D111kAAAAAQAZ5QdEK/AAUfLVA6dqJ8gQAAAA8BnlJqQr8ABR+VgXX+SkAAAAAcQZpUSahBbJlMCG///qeEAAZP2VgQnr2Z8EYdgAAAABtBmnVJ4QpSZTAh3/6plgAEwRYboxCXQOH+NlEAAAARQZqZSeEOiZTAhv/+p4QAAScAAAAMQZ63RRE8L/8AALKBAAAAEAGe1nRCvwAHxbA1vpY2l2kAAAAQAZ7YakK/AAfDnDX1QdPS+AAAABpBmtxJqEFomUwIb//+p4QADnnGf6rfMfi44QAAABJBnvpFESwr/wAL87cLsN9L1XgAAAAPAZ8bakK/AAvztwnBA7JhAAAAG0GbHkmoQWyZTBRMN//+p4QADuewfz4PiiPT3wAAABABnz1qQr8ADEM3NceKtsVgAAAAGUGbP0nhClJlMCHf/qmWAATn48/fsg3FXTAAAAAbQZtDSeEOiZTAh3/+qZYAAy3tL+v6rULIUunvAAAAEEGfYUURPC//AAO2nTv87CgAAAAPAZ+AdEK/AAUeMIDJLt+BAAAADwGfgmpCvwAFHbbpRpDzAQAAABlBm4dJqEFomUwId//+qZYAAylzo/32l95DAAAAEEGfpUURLC//AAO1/D111kEAAAAQAZ/EdEK/AAUfLVA6dqJ8gQAAAA8Bn8ZqQr8ABR+VgXX+SkEAAAATQZvLSahBbJlMCHf//qmWAACVgAAAAAxBn+lFFSwv/wAAsoAAAAAQAZ4IdEK/AAUOyjvwAfdLwQAAABABngpqQr8ABQ7KO9nj7peAAAAAE0GaD0moQWyZTAh3//6plgAAlYAAAAAUQZ4tRRUsL/8AA6zV/ibFr8zirYkAAAAPAZ5MdEK/AAUdOUKTbJaLAAAAEAGeTmpCvwAFHsI8mB6+qYEAAAATQZpTSahBbJlMCHf//qmWAACVgAAAABBBnnFFFSwv/wADtxLZv0mFAAAADwGekHRCvwAFHTlCk2yWiwAAABABnpJqQr8ABR7CPJgevqmAAAAAHkGal0moQWyZTAh3//6plgAEwKOoQZoFPpVA4f7H6gAAABJBnrVFFSwv/wAFroEU8GFrl6UAAAAPAZ7UdEK/AAUdOUKTbJaLAAAAEAGe1mpCvwAHmZ4F1/biMGEAAAATQZrbSahBbJlMCHf//qmWAACVgQAAAAxBnvlFFSwv/wAAsoAAAAAPAZ8YdEK/AAfFsDQ855iBAAAADwGfGmpCvwAHw5w0SueYgQAAABNBmx9JqEFsmUwId//+qZYAAJWBAAAADEGfPUUVLC//AACygQAAAA8Bn1x0Qr8AB8WwNDznmIEAAAAPAZ9eakK/AAfDnDRK55iBAAAAHEGbQ0moQWyZTAh3//6plgAHdHUC0SblG+PPoskAAAAQQZ9hRRUsL/8ACO5+zcEScAAAAA8Bn4B0Qr8AB8WwNdfGQIEAAAAQAZ+CakK/AAxDtS3DZtWLgAAAABlBm4dJqEFsmUwId//+qZYAB3/aX9f12jLnAAAAEEGfpUUVLC//AAjtAZrrScEAAAAPAZ/EdEK/AAxAB8Um2SuPAAAADwGfxmpCvwAHw5w2ByovgQAAABNBm8tJqEFsmUwId//+qZYAAJWAAAAADEGf6UUVLC//AACygAAAAA8Bngh0Qr8AB8WwNDznmIEAAAAPAZ4KakK/AAfDnDRK55iBAAAAE0GaD0moQWyZTAh3//6plgAAlYAAAAAMQZ4tRRUsL/8AALKBAAAADwGeTHRCvwAHxbA0POeYgQAAAA8Bnk5qQr8AB8OcNErnmIEAAAATQZpTSahBbJlMCHf//qmWAACVgAAAAAxBnnFFFSwv/wAAsoAAAAAPAZ6QdEK/AAfFsDQ855iBAAAADwGekmpCvwAHw5w0SueYgQAAABNBmpdJqEFsmUwId//+qZYAAJWAAAAADEGetUUVLC//AACygQAAAA8BntR0Qr8AB8WwNDznmIEAAAAPAZ7WakK/AAfDnDRK55iBAAAAE0Ga20moQWyZTAh3//6plgAAlYEAAAAMQZ75RRUsL/8AALKAAAAADwGfGHRCvwAHxbA0POeYgQAAAA8BnxpqQr8AB8OcNErnmIEAAAASQZsfSahBbJlMCG///qeEAAEnAAAADEGfPUUVLC//AACygQAAAA8Bn1x0Qr8AB8WwNDznmIEAAAAPAZ9eakK/AAfDnDRK55iBAAAAEkGbQ0moQWyZTAhv//6nhAABJwAAAAxBn2FFFSwv/wAAsoAAAAAPAZ+AdEK/AAfFsDQ855iBAAAADwGfgmpCvwAHw5w0SueYgQAAABJBm4dJqEFsmUwIZ//+nhAABH0AAAAMQZ+lRRUsL/8AALKBAAAADwGfxHRCvwAHxbA0POeYgQAAAA8Bn8ZqQr8AB8OcNErnmIEAAAAbQZvJS6hCEFskRggoB/IB/YeAUTCv/jhAABFwAAAAJQGf6GpCvwKvY+1BxN2qw0km5aqGByy1u80qIJpQQdclltbl9YAAAAwYbW9vdgAAAGxtdmhkAAAAAAAAAAAAAAAAAAAD6AAAH5AAAQAAAQAAAAAAAAAAAAAAAAEAAAAAAAAAAAAAAAAAAAABAAAAAAAAAAAAAAAAAABAAAAAAAAAAAAAAAAAAAAAAAAAAAAAAAAAAAAAAAAAAgAAC0J0cmFrAAAAXHRraGQAAAADAAAAAAAAAAAAAAABAAAAAAAAH5AAAAAAAAAAAAAAAAAAAAAAAAEAAAAAAAAAAAAAAAAAAAABAAAAAAAAAAAAAAAAAABAAAAAARAAAAEQAAAAAAAkZWR0cwAAABxlbHN0AAAAAAAAAAEAAB+QAAAEAAABAAAAAAq6bWRpYQAAACBtZGhkAAAAAAAAAAAAAAAAAAAyAAABlABVxAAAAAAALWhkbHIAAAAAAAAAAHZpZGUAAAAAAAAAAAAAAABWaWRlb0hhbmRsZXIAAAAKZW1pbmYAAAAUdm1oZAAAAAEAAAAAAAAAAAAAACRkaW5mAAAAHGRyZWYAAAAAAAAAAQAAAAx1cmwgAAAAAQAACiVzdGJsAAAAlXN0c2QAAAAAAAAAAQAAAIVhdmMxAAAAAAAAAAEAAAAAAAAAAAAAAAAAAAAAARABEABIAAAASAAAAAAAAAABAAAAAAAAAAAAAAAAAAAAAAAAAAAAAAAAAAAAAAAAAAAAGP//AAAAL2F2Y0MB9AAN/+EAF2f0AA2RmygiEdCAAAADAIAAABkHihTLAQAFaOvjxEgAAAAYc3R0cwAAAAAAAAABAAAAygAAAgAAAAAUc3RzcwAAAAAAAAABAAAAAQAABfBjdHRzAAAAAAAAALwAAAAHAAAEAAAAAAEAAAoAAAAAAQAABAAAAAABAAAAAAAAAAEAAAIAAAAAAQAACAAAAAACAAACAAAAAAEAAAgAAAAAAgAAAgAAAAABAAAKAAAAAAEAAAQAAAAAAQAAAAAAAAABAAACAAAAAAEAAAoAAAAAAQAABAAAAAABAAAAAAAAAAEAAAIAAAAAAQAACgAAAAABAAAEAAAAAAEAAAAAAAAAAQAAAgAAAAABAAAKAAAAAAEAAAQAAAAAAQAAAAAAAAABAAACAAAAAAEAAAoAAAAAAQAABAAAAAABAAAAAAAAAAEAAAIAAAAAAQAACgAAAAABAAAEAAAAAAEAAAAAAAAAAQAAAgAAAAABAAAKAAAAAAEAAAQAAAAAAQAAAAAAAAABAAACAAAAAAEAAAoAAAAAAQAABAAAAAABAAAAAAAAAAEAAAIAAAAAAQAACgAAAAABAAAEAAAAAAEAAAAAAAAAAQAAAgAAAAABAAAKAAAAAAEAAAQAAAAAAQAAAAAAAAABAAACAAAAAAEAAAoAAAAAAQAABAAAAAABAAAAAAAAAAEAAAIAAAAAAQAACgAAAAABAAAEAAAAAAEAAAAAAAAAAQAAAgAAAAABAAAKAAAAAAEAAAQAAAAAAQAAAAAAAAABAAACAAAAAAEAAAYAAAAAAQAAAgAAAAACAAAEAAAAAAEAAAgAAAAAAgAAAgAAAAACAAAEAAAAAAEAAAoAAAAAAQAABAAAAAABAAAAAAAAAAEAAAIAAAAAAQAACgAAAAABAAAEAAAAAAEAAAAAAAAAAQAAAgAAAAABAAAIAAAAAAIAAAIAAAAAAQAABAAAAAABAAAGAAAAAAEAAAIAAAAAAQAACgAAAAABAAAEAAAAAAEAAAAAAAAAAQAAAgAAAAABAAAKAAAAAAEAAAQAAAAAAQAAAAAAAAABAAACAAAAAAEAAAoAAAAAAQAABAAAAAABAAAAAAAAAAEAAAIAAAAAAQAACgAAAAABAAAEAAAAAAEAAAAAAAAAAQAAAgAAAAABAAAKAAAAAAEAAAQAAAAAAQAAAAAAAAABAAACAAAAAAEAAAoAAAAAAQAABAAAAAABAAAAAAAAAAEAAAIAAAAAAgAABAAAAAABAAAKAAAAAAEAAAQAAAAAAQAAAAAAAAABAAACAAAAAAEAAAgAAAAAAgAAAgAAAAABAAAGAAAAAAEAAAIAAAAAAQAABAAAAAABAAAKAAAAAAEAAAQAAAAAAQAAAAAAAAABAAACAAAAAAEAAAoAAAAAAQAABAAAAAABAAAAAAAAAAEAAAIAAAAAAQAACgAAAAABAAAEAAAAAAEAAAAAAAAAAQAAAgAAAAABAAAKAAAAAAEAAAQAAAAAAQAAAAAAAAABAAACAAAAAAEAAAoAAAAAAQAABAAAAAABAAAAAAAAAAEAAAIAAAAAAQAACgAAAAABAAAEAAAAAAEAAAAAAAAAAQAAAgAAAAABAAAKAAAAAAEAAAQAAAAAAQAAAAAAAAABAAACAAAAAAEAAAoAAAAAAQAABAAAAAABAAAAAAAAAAEAAAIAAAAAAQAACgAAAAABAAAEAAAAAAEAAAAAAAAAAQAAAgAAAAABAAAKAAAAAAEAAAQAAAAAAQAAAAAAAAABAAACAAAAAAEAAAoAAAAAAQAABAAAAAABAAAAAAAAAAEAAAIAAAAAAQAACgAAAAABAAAEAAAAAAEAAAAAAAAAAQAAAgAAAAABAAAKAAAAAAEAAAQAAAAAAQAAAAAAAAABAAACAAAAAAEAAAoAAAAAAQAABAAAAAABAAAAAAAAAAEAAAIAAAAAAQAACgAAAAABAAAEAAAAAAEAAAAAAAAAAQAAAgAAAAABAAAKAAAAAAEAAAQAAAAAAQAAAAAAAAABAAACAAAAAAEAAAoAAAAAAQAABAAAAAABAAAAAAAAAAEAAAIAAAAAAQAACgAAAAABAAAEAAAAAAEAAAAAAAAAAQAAAgAAAAABAAAGAAAAAAEAAAIAAAAAHHN0c2MAAAAAAAAAAQAAAAEAAADKAAAAAQAAAzxzdHN6AAAAAAAAAAAAAADKAAAFqAAAABkAAAAbAAAAHAAAABwAAAAdAAAAHQAAABoAAAASAAAAFAAAABQAAAAeAAAAEwAAABEAAAAjAAAAFgAAABMAAAAbAAAAEgAAABQAAAAUAAAAFwAAABAAAAAUAAAAFAAAABcAAAAQAAAAFAAAABQAAAArAAAAFAAAABMAAAAUAAAAGwAAABIAAAAUAAAAFAAAABcAAAAQAAAAFAAAABQAAAAXAAAAEAAAABQAAAAUAAAAFwAAABAAAAAUAAAAFAAAABcAAAAQAAAAFAAAABQAAAAXAAAAEAAAABQAAAAUAAAAFwAAABAAAAAUAAAAFAAAACAAAAAZAAAAEwAAABQAAAAmAAAAGwAAABQAAAAUAAAALAAAABQAAAAdAAAAHgAAAB8AAAAUAAAAEgAAAB4AAAAdAAAAHgAAABQAAAAUAAAAEwAAABYAAAAQAAAAFAAAABQAAAAgAAAAFgAAABQAAAAeAAAAIAAAABQAAAAWAAAAEAAAABQAAAAUAAAAFwAAABAAAAAUAAAAFAAAABcAAAAQAAAAFAAAABQAAAAXAAAAEAAAABQAAAAUAAAAIAAAABQAAAATAAAAFAAAAB0AAAAUAAAAFAAAABMAAAAgAAAAHwAAABUAAAAQAAAAFAAAABQAAAAeAAAAFgAAABMAAAAfAAAAFAAAAB0AAAAfAAAAFAAAABMAAAATAAAAHQAAABQAAAAUAAAAEwAAABcAAAAQAAAAFAAAABQAAAAXAAAAGAAAABMAAAAUAAAAFwAAABQAAAATAAAAFAAAACIAAAAWAAAAEwAAABQAAAAXAAAAEAAAABMAAAATAAAAFwAAABAAAAATAAAAEwAAACAAAAAUAAAAEwAAABQAAAAdAAAAFAAAABMAAAATAAAAFwAAABAAAAATAAAAEwAAABcAAAAQAAAAEwAAABMAAAAXAAAAEAAAABMAAAATAAAAFwAAABAAAAATAAAAEwAAABcAAAAQAAAAEwAAABMAAAAWAAAAEAAAABMAAAATAAAAFgAAABAAAAATAAAAEwAAABYAAAAQAAAAEwAAABMAAAAfAAAAKQAAABRzdGNvAAAAAAAAAAEAAAAwAAAAYnVkdGEAAABabWV0YQAAAAAAAAAhaGRscgAAAAAAAAAAbWRpcmFwcGwAAAAAAAAAAAAAAAAtaWxzdAAAACWpdG9vAAAAHWRhdGEAAAABAAAAAExhdmY1OC4yNi4xMDA=\" type=\"video/mp4\" />\n",
       "             </video>"
      ],
      "text/plain": [
       "<IPython.core.display.HTML object>"
      ]
     },
     "execution_count": 14,
     "metadata": {},
     "output_type": "execute_result"
    }
   ],
   "source": [
    "env = Environment(grid_size=size, max_time=T, temperature=0.3)\n",
    "agent = DQN_CNN(size, lr=.1, epsilon = 0.1, memory_size=2000, batch_size = 32)\n",
    "train(agent,env,epochs_train,prefix='cnn_train')\n",
    "HTML(display_videos('cnn_train0.mp4'))"
   ]
  },
  {
   "cell_type": "markdown",
   "metadata": {},
   "source": [
    "***\n",
    "***\n",
    "__Question 9__ Test both algorithms and compare their performances. Which issue(s) do you observe? Observe also different behaviors by changing the temperature."
   ]
  },
  {
   "cell_type": "code",
   "execution_count": 15,
   "metadata": {},
   "outputs": [
    {
     "name": "stdout",
     "output_type": "stream",
     "text": [
      "Test of the CNN\n",
      "Win/lose count 11.5/3.0. Average score (8.5)\n",
      "Win/lose count 5.5/2.0. Average score (6.0)\n",
      "Win/lose count 9.5/1.0. Average score (6.833333333333333)\n",
      "Win/lose count 9.0/7.0. Average score (5.625)\n",
      "Win/lose count 9.5/2.0. Average score (6.0)\n",
      "Win/lose count 14.5/6.0. Average score (6.416666666666667)\n",
      "Win/lose count 9.0/3.0. Average score (6.357142857142857)\n",
      "Win/lose count 7.5/1.0. Average score (6.375)\n",
      "Win/lose count 9.0/7.0. Average score (5.888888888888889)\n",
      "Win/lose count 6.0/3.0. Average score (5.6)\n",
      "Final score: 5.6\n",
      "Test of the FC\n",
      "Win/lose count 5.0/5.0. Average score (0.0)\n",
      "Win/lose count 3.5/3.0. Average score (0.25)\n",
      "Win/lose count 6.5/1.0. Average score (2.0)\n",
      "Win/lose count 3.5/3.0. Average score (1.625)\n",
      "Win/lose count 3.0/0. Average score (1.9)\n",
      "Win/lose count 3.0/3.0. Average score (1.5833333333333333)\n",
      "Win/lose count 2.0/1.0. Average score (1.5)\n",
      "Win/lose count 3.5/0. Average score (1.75)\n",
      "Win/lose count 1.5/5.0. Average score (1.1666666666666667)\n",
      "Win/lose count 3.5/4.0. Average score (1.0)\n",
      "Final score: 1.0\n"
     ]
    }
   ],
   "source": [
    "env = Environment(grid_size=size, max_time=T,temperature=0.3)\n",
    "agent_cnn = DQN_CNN(size, lr=.1, epsilon = 0.1, memory_size=2000, batch_size = 32)\n",
    "agent_cnn.load(name_weights='cnn_trainmodel.h5',name_model='cnn_trainmodel.json')\n",
    "\n",
    "agent_fc = DQN_FC(size, lr=.1, epsilon = 0.1, memory_size=2000, batch_size = 32)\n",
    "agent_cnn.load(name_weights='fc_trainmodel.h5',name_model='fc_trainmodel.json')\n",
    "print('Test of the CNN')\n",
    "test(agent_cnn,env,epochs_test,prefix='cnn_test')\n",
    "print('Test of the FC')\n",
    "test(agent_fc,env,epochs_test,prefix='fc_test')"
   ]
  },
  {
   "cell_type": "code",
   "execution_count": 16,
   "metadata": {},
   "outputs": [
    {
     "data": {
      "text/html": [
       "<video alt=\"test\" controls>\n",
       "                <source src=\"data:video/mp4;base64,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\" type=\"video/mp4\" />\n",
       "             </video>"
      ],
      "text/plain": [
       "<IPython.core.display.HTML object>"
      ]
     },
     "execution_count": 16,
     "metadata": {},
     "output_type": "execute_result"
    }
   ],
   "source": [
    "HTML(display_videos('cnn_test9.mp4'))"
   ]
  },
  {
   "cell_type": "code",
   "execution_count": 17,
   "metadata": {},
   "outputs": [
    {
     "data": {
      "text/html": [
       "<video alt=\"test\" controls>\n",
       "                <source src=\"data:video/mp4;base64,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\" type=\"video/mp4\" />\n",
       "             </video>"
      ],
      "text/plain": [
       "<IPython.core.display.HTML object>"
      ]
     },
     "execution_count": 17,
     "metadata": {},
     "output_type": "execute_result"
    }
   ],
   "source": [
    "HTML(display_videos('fc_test9.mp4'))"
   ]
  },
  {
   "cell_type": "markdown",
   "metadata": {},
   "source": [
    "We can see that the CNN performs better than FC, and that there is an exploration issue, and the agent tends to stay at the same empty cells. When we increase the temperature, there are more positive rewards and thus the agent will tend to explore more. We now implement an approach that focuses more on exploration :"
   ]
  },
  {
   "cell_type": "markdown",
   "metadata": {},
   "source": [
    "***\n",
    "\n",
    "The algorithm tends to not explore the map which can be an issue. We propose two ideas in order to encourage exploration:\n",
    "1. Incorporating a decreasing $\\epsilon$-greedy exploration. You can use the method ```set_epsilon```\n",
    "2. Append via the environment a new state that describes if a cell has been visited or not\n",
    "\n",
    "***\n",
    "__Question 10__ Design a new ```train_explore``` function and environment class ```EnvironmentExploring``` to tackle the issue of exploration.\n",
    "\n"
   ]
  },
  {
   "cell_type": "code",
   "execution_count": 18,
   "metadata": {
    "collapsed": true
   },
   "outputs": [],
   "source": [
    "def train_explore(agent,env,epoch,prefix=''):\n",
    "    # Number of won games\n",
    "    score = 0\n",
    "    loss = 0\n",
    "\n",
    "    for e in range(epoch):\n",
    "        # At each epoch, we restart to a fresh game and get the initial state\n",
    "        state = env.reset()\n",
    "        # This assumes that the games will terminate\n",
    "        game_over = False\n",
    "\n",
    "        win = 0\n",
    "        lose = 0\n",
    "\n",
    "        while not game_over:\n",
    "            # The agent performs an action\n",
    "            action = agent.act(state)\n",
    "\n",
    "            # Apply an action to the environment, get the next state, the reward\n",
    "            # and if the games end\n",
    "            prev_state = state\n",
    "            state, reward, game_over = env.act(action, train=True)\n",
    "\n",
    "            # Update the counters\n",
    "            if reward > 0:\n",
    "                win = win + reward\n",
    "            if reward < 0:\n",
    "                lose = lose -reward\n",
    "\n",
    "            # Apply the reinforcement strategy\n",
    "            loss = agent.reinforce(prev_state, state,  action, reward, game_over)\n",
    "\n",
    "        # Save as a mp4\n",
    "        if e % 10 == 0:\n",
    "            env.draw(prefix+str(e))\n",
    "\n",
    "        # Update stats\n",
    "        score += win-lose\n",
    "\n",
    "        print(\"Epoch {:03d}/{:03d} | Loss {:.4f} | Win/lose count {}/{} ({})\"\n",
    "              .format(e, epoch, loss, win, lose, win-lose))\n",
    "        agent.save(name_weights=prefix+'model.h5',name_model=prefix+'model.json')\n",
    "        \n",
    "class EnvironmentExploring(object):\n",
    "    def __init__(self, grid_size=10, max_time=500, temperature=0.1):\n",
    "        grid_size = grid_size+4\n",
    "        self.grid_size = grid_size\n",
    "        self.max_time = max_time\n",
    "        self.temperature = temperature\n",
    "\n",
    "        #board on which one plays\n",
    "        self.board = np.zeros((grid_size,grid_size))\n",
    "        self.position = np.zeros((grid_size,grid_size))\n",
    "        self.malus_position = np.zeros((grid_size,grid_size))\n",
    "\n",
    "        # coordinate of the cat\n",
    "        self.x = 0\n",
    "        self.y = 1\n",
    "\n",
    "        # self time\n",
    "        self.t = 0\n",
    "\n",
    "        self.scale=16\n",
    "\n",
    "        self.to_draw = np.zeros((max_time+2, grid_size*self.scale, grid_size*self.scale, 3))\n",
    "\n",
    "\n",
    "    def draw(self,e):\n",
    "        skvideo.io.vwrite(str(e) + '.mp4', self.to_draw)\n",
    "\n",
    "    def get_frame(self,t):\n",
    "        b = np.zeros((self.grid_size,self.grid_size,3))+128\n",
    "        b[self.board>0,0] = 256\n",
    "        b[self.board < 0, 2] = 256\n",
    "        b[self.x,self.y,:]=256\n",
    "        b[-2:,:,:]=0\n",
    "        b[:,-2:,:]=0\n",
    "        b[:2,:,:]=0\n",
    "        b[:,:2,:]=0\n",
    "        \n",
    "        b =  cv2.resize(b, None, fx=self.scale, fy=self.scale, interpolation=cv2.INTER_NEAREST)\n",
    "\n",
    "        self.to_draw[t,:,:,:]=b\n",
    "\n",
    "\n",
    "    def act(self, action, train = False):\n",
    "        #This function returns the new state, reward and decides if the\n",
    "        #game ends.\n",
    "\n",
    "        self.get_frame(int(self.t))\n",
    "\n",
    "        self.position = np.zeros((self.grid_size, self.grid_size))\n",
    "\n",
    "        self.position[0:2,:]= -1\n",
    "        self.position[:,0:2] = -1\n",
    "        self.position[-2:, :] = -1\n",
    "        self.position[-2:, :] = -1\n",
    "\n",
    "        self.position[self.x, self.y] = 1\n",
    "        if action == 0:\n",
    "            if self.x == self.grid_size-3:\n",
    "                self.x = self.x-1\n",
    "            else:\n",
    "                self.x = self.x + 1\n",
    "        elif action == 1:\n",
    "            if self.x == 2:\n",
    "                self.x = self.x+1\n",
    "            else:\n",
    "                self.x = self.x-1\n",
    "        elif action == 2:\n",
    "            if self.y == self.grid_size - 3:\n",
    "                self.y = self.y - 1\n",
    "            else:\n",
    "                self.y = self.y + 1\n",
    "        elif action == 3:\n",
    "            if self.y == 2:\n",
    "                self.y = self.y + 1\n",
    "            else:\n",
    "                self.y = self.y - 1\n",
    "        else:\n",
    "            RuntimeError('Error: action not recognized')\n",
    "        reward = 0\n",
    "        if train:\n",
    "            reward = -self.malus_position[self.x, self.y]\n",
    "        self.malus_position[self.x, self.y] = 0.1\n",
    "\n",
    "        reward = reward + self.board[self.x, self.y]\n",
    "        # 3 states instead of 2\n",
    "        state = np.concatenate((self.malus_position.reshape(self.grid_size, self.grid_size,1),\\\n",
    "                                self.board.reshape(self.grid_size, self.grid_size,1),\\\n",
    "                        self.position.reshape(self.grid_size, self.grid_size,1)),axis=2)\n",
    "        self.t = self.t + 1\n",
    "        self.board[self.x, self.y] = 0\n",
    "        game_over = self.t > self.max_time\n",
    "        state = state[self.x-2:self.x+3,self.y-2:self.y+3,:]\n",
    "\n",
    "        return state, reward, game_over\n",
    "\n",
    "    def reset(self):\n",
    "        #This function resets the game and returns the initial state\n",
    "\n",
    "        self.x = np.random.randint(3, self.grid_size-3, size=1)[0]\n",
    "        self.y = np.random.randint(3, self.grid_size-3, size=1)[0]\n",
    "\n",
    "\n",
    "        bonus = 0.5*np.random.binomial(1,self.temperature,size=self.grid_size**2)\n",
    "        bonus = bonus.reshape(self.grid_size,self.grid_size)\n",
    "\n",
    "        malus = -1.0*np.random.binomial(1,self.temperature,size=self.grid_size**2)\n",
    "        malus = malus.reshape(self.grid_size, self.grid_size)\n",
    "\n",
    "        self.to_draw = np.zeros((self.max_time+2, self.grid_size*self.scale, self.grid_size*self.scale, 3))\n",
    "\n",
    "\n",
    "        malus[bonus>0]=0\n",
    "\n",
    "        self.board = bonus + malus\n",
    "\n",
    "        self.position = np.zeros((self.grid_size, self.grid_size))\n",
    "        self.position[0:2,:]= -1\n",
    "        self.position[:,0:2] = -1\n",
    "        self.position[-2:, :] = -1\n",
    "        self.position[-2:, :] = -1\n",
    "        self.board[self.x,self.y] = 0\n",
    "        self.malus_position[self.x, self.y] = 0.1\n",
    "        self.t = 0\n",
    "        \n",
    "        state = np.concatenate((self.malus_position.reshape(self.grid_size, self.grid_size,1),\\\n",
    "                                self.board.reshape(self.grid_size, self.grid_size,1),\\\n",
    "                        self.position.reshape(self.grid_size, self.grid_size,1)),axis=2)\n",
    "        \n",
    "        state = state[self.x - 2:self.x + 3, self.y - 2:self.y + 3, :]\n",
    "        return state\n",
    "  "
   ]
  },
  {
   "cell_type": "code",
   "execution_count": 19,
   "metadata": {},
   "outputs": [
    {
     "name": "stdout",
     "output_type": "stream",
     "text": [
      "Epoch 000/100 | Loss 0.0019 | Win/lose count 3.5/23.600000000000044 (-20.100000000000044)\n",
      "Epoch 001/100 | Loss 0.0119 | Win/lose count 2.5/24.90000000000005 (-22.40000000000005)\n",
      "Epoch 002/100 | Loss 0.0190 | Win/lose count 5.300000000000001/21.60000000000004 (-16.30000000000004)\n",
      "Epoch 003/100 | Loss 0.0078 | Win/lose count 5.6/26.30000000000002 (-20.700000000000017)\n",
      "Epoch 004/100 | Loss 0.0068 | Win/lose count 5.6/22.500000000000068 (-16.90000000000007)\n",
      "Epoch 005/100 | Loss 0.0095 | Win/lose count 14.500000000000005/20.100000000000023 (-5.600000000000017)\n",
      "Epoch 006/100 | Loss 0.0045 | Win/lose count 11.100000000000005/20.400000000000013 (-9.300000000000008)\n",
      "Epoch 007/100 | Loss 0.0045 | Win/lose count 14.200000000000006/20.000000000000025 (-5.8000000000000185)\n",
      "Epoch 008/100 | Loss 0.0064 | Win/lose count 12.500000000000005/18.799999999999994 (-6.299999999999988)\n",
      "Epoch 009/100 | Loss 0.0073 | Win/lose count 13.100000000000005/17.39999999999998 (-4.299999999999976)\n",
      "Epoch 010/100 | Loss 0.0047 | Win/lose count 12.400000000000006/19.000000000000004 (-6.599999999999998)\n",
      "Epoch 011/100 | Loss 0.0078 | Win/lose count 15.70000000000001/16.19999999999996 (-0.49999999999995026)\n",
      "Epoch 012/100 | Loss 0.0178 | Win/lose count 5.300000000000001/21.600000000000023 (-16.300000000000022)\n",
      "Epoch 013/100 | Loss 0.0143 | Win/lose count 6.400000000000001/22.500000000000057 (-16.100000000000055)\n",
      "Epoch 014/100 | Loss 0.0159 | Win/lose count 17.6/17.69999999999999 (-0.09999999999998721)\n",
      "Epoch 015/100 | Loss 0.0082 | Win/lose count 2.8/21.40000000000004 (-18.60000000000004)\n",
      "Epoch 016/100 | Loss 0.0196 | Win/lose count 7.700000000000002/21.100000000000037 (-13.400000000000034)\n",
      "Epoch 017/100 | Loss 0.0099 | Win/lose count 13.200000000000006/17.799999999999986 (-4.59999999999998)\n",
      "Epoch 018/100 | Loss 0.0047 | Win/lose count 13.300000000000006/20.80000000000004 (-7.500000000000034)\n",
      "Epoch 019/100 | Loss 0.0146 | Win/lose count 3.5999999999999996/24.200000000000067 (-20.600000000000065)\n",
      "Epoch 020/100 | Loss 0.0153 | Win/lose count 13.200000000000006/17.799999999999986 (-4.59999999999998)\n",
      "Epoch 021/100 | Loss 0.0115 | Win/lose count 6.800000000000002/22.400000000000038 (-15.600000000000037)\n",
      "Epoch 022/100 | Loss 0.0129 | Win/lose count 1.6/24.700000000000063 (-23.100000000000062)\n",
      "Epoch 023/100 | Loss 0.0136 | Win/lose count 19.199999999999996/16.29999999999996 (2.900000000000034)\n",
      "Epoch 024/100 | Loss 0.0120 | Win/lose count 9.600000000000003/21.700000000000014 (-12.10000000000001)\n",
      "Epoch 025/100 | Loss 0.0155 | Win/lose count 14.000000000000007/18.6 (-4.599999999999994)\n",
      "Epoch 026/100 | Loss 0.0169 | Win/lose count 13.200000000000006/19.80000000000002 (-6.600000000000012)\n",
      "Epoch 027/100 | Loss 0.0242 | Win/lose count 9.600000000000003/20.700000000000035 (-11.100000000000032)\n",
      "Epoch 028/100 | Loss 0.0159 | Win/lose count 14.800000000000008/19.4 (-4.599999999999991)\n",
      "Epoch 029/100 | Loss 0.0197 | Win/lose count 8.400000000000002/20.000000000000018 (-11.600000000000016)\n",
      "Epoch 030/100 | Loss 0.0086 | Win/lose count 13.200000000000006/21.800000000000015 (-8.600000000000009)\n",
      "Epoch 031/100 | Loss 0.0092 | Win/lose count 13.600000000000007/16.699999999999967 (-3.0999999999999606)\n",
      "Epoch 032/100 | Loss 0.0408 | Win/lose count 10.000000000000004/17.59999999999998 (-7.5999999999999766)\n",
      "Epoch 033/100 | Loss 0.0206 | Win/lose count 8.400000000000002/21.000000000000018 (-12.600000000000016)\n",
      "Epoch 034/100 | Loss 0.0098 | Win/lose count 10.000000000000004/21.600000000000048 (-11.600000000000044)\n",
      "Epoch 035/100 | Loss 0.0281 | Win/lose count 14.800000000000008/20.40000000000003 (-5.600000000000023)\n",
      "Epoch 036/100 | Loss 0.0293 | Win/lose count 21.999999999999986/16.59999999999997 (5.400000000000016)\n",
      "Epoch 037/100 | Loss 0.0133 | Win/lose count 5.6000000000000005/20.700000000000028 (-15.100000000000026)\n",
      "Epoch 038/100 | Loss 0.0145 | Win/lose count 14.800000000000008/19.400000000000013 (-4.600000000000005)\n",
      "Epoch 039/100 | Loss 0.0134 | Win/lose count 14.000000000000007/19.600000000000016 (-5.6000000000000085)\n",
      "Epoch 040/100 | Loss 0.0391 | Win/lose count 18.0/18.599999999999998 (-0.5999999999999979)\n",
      "Epoch 041/100 | Loss 0.0273 | Win/lose count 15.200000000000008/19.299999999999994 (-4.099999999999985)\n",
      "Epoch 042/100 | Loss 0.0151 | Win/lose count 13.200000000000006/21.800000000000036 (-8.60000000000003)\n",
      "Epoch 043/100 | Loss 0.0089 | Win/lose count 12.400000000000006/22.00000000000004 (-9.600000000000033)\n",
      "Epoch 044/100 | Loss 0.0313 | Win/lose count 21.19999999999999/15.799999999999963 (5.400000000000025)\n",
      "Epoch 045/100 | Loss 0.0276 | Win/lose count 15.600000000000009/18.19999999999999 (-2.59999999999998)\n",
      "Epoch 046/100 | Loss 0.0119 | Win/lose count 17.200000000000003/16.799999999999972 (0.40000000000003055)\n",
      "Epoch 047/100 | Loss 0.0137 | Win/lose count 19.599999999999994/17.19999999999998 (2.400000000000013)\n",
      "Epoch 048/100 | Loss 0.0134 | Win/lose count 12.400000000000006/21.00000000000004 (-8.600000000000033)\n",
      "Epoch 049/100 | Loss 0.0200 | Win/lose count 17.6/17.699999999999985 (-0.09999999999998366)\n",
      "Epoch 050/100 | Loss 0.0089 | Win/lose count 11.200000000000005/23.30000000000006 (-12.100000000000056)\n",
      "Epoch 051/100 | Loss 0.0109 | Win/lose count 14.800000000000008/19.400000000000013 (-4.600000000000005)\n",
      "Epoch 052/100 | Loss 0.0082 | Win/lose count 13.600000000000007/18.7 (-5.0999999999999925)\n",
      "Epoch 053/100 | Loss 0.0197 | Win/lose count 12.400000000000006/21.000000000000036 (-8.60000000000003)\n",
      "Epoch 054/100 | Loss 0.0140 | Win/lose count 10.800000000000004/21.399999999999995 (-10.59999999999999)\n",
      "Epoch 055/100 | Loss 0.0204 | Win/lose count 16.000000000000007/24.100000000000044 (-8.100000000000037)\n",
      "Epoch 056/100 | Loss 0.0159 | Win/lose count 16.400000000000006/22.000000000000057 (-5.600000000000051)\n",
      "Epoch 057/100 | Loss 0.0192 | Win/lose count 14.400000000000007/20.500000000000014 (-6.100000000000007)\n",
      "Epoch 058/100 | Loss 0.0172 | Win/lose count 19.199999999999996/16.299999999999965 (2.9000000000000306)\n",
      "Epoch 059/100 | Loss 0.0121 | Win/lose count 9.200000000000003/18.8 (-9.599999999999998)\n",
      "Epoch 060/100 | Loss 0.0170 | Win/lose count 17.6/17.69999999999999 (-0.09999999999998721)\n",
      "Epoch 061/100 | Loss 0.0220 | Win/lose count 18.0/22.60000000000002 (-4.600000000000019)\n",
      "Epoch 062/100 | Loss 0.0133 | Win/lose count 13.600000000000007/21.700000000000053 (-8.100000000000046)\n",
      "Epoch 063/100 | Loss 0.0298 | Win/lose count 10.000000000000004/20.600000000000033 (-10.60000000000003)\n",
      "Epoch 064/100 | Loss 0.0232 | Win/lose count 2.0/19.60000000000001 (-17.60000000000001)\n",
      "Epoch 065/100 | Loss 0.0159 | Win/lose count 17.6/18.700000000000003 (-1.1000000000000014)\n",
      "Epoch 066/100 | Loss 0.0093 | Win/lose count 6.000000000000001/20.60000000000003 (-14.60000000000003)\n",
      "Epoch 067/100 | Loss 0.0182 | Win/lose count 13.600000000000007/19.70000000000002 (-6.100000000000014)\n",
      "Epoch 068/100 | Loss 0.0229 | Win/lose count 16.400000000000006/22.000000000000057 (-5.600000000000051)\n",
      "Epoch 069/100 | Loss 0.0260 | Win/lose count 19.599999999999994/22.20000000000003 (-2.600000000000037)\n",
      "Epoch 070/100 | Loss 0.0057 | Win/lose count 22.399999999999984/19.500000000000007 (2.8999999999999773)\n",
      "Epoch 071/100 | Loss 0.0408 | Win/lose count 18.4/19.500000000000004 (-1.100000000000005)\n",
      "Epoch 072/100 | Loss 0.0139 | Win/lose count 10.000000000000004/17.59999999999998 (-7.5999999999999766)\n",
      "Epoch 073/100 | Loss 0.0162 | Win/lose count 15.200000000000008/18.299999999999997 (-3.099999999999989)\n",
      "Epoch 074/100 | Loss 0.0230 | Win/lose count 21.19999999999999/17.79999999999999 (3.3999999999999986)\n",
      "Epoch 075/100 | Loss 0.0126 | Win/lose count 19.999999999999993/20.10000000000003 (-0.10000000000003695)\n",
      "Epoch 076/100 | Loss 0.0256 | Win/lose count 18.4/19.50000000000002 (-1.1000000000000227)\n",
      "Epoch 077/100 | Loss 0.0298 | Win/lose count 19.599999999999994/18.199999999999978 (1.4000000000000163)\n",
      "Epoch 078/100 | Loss 0.0147 | Win/lose count 19.199999999999996/19.300000000000015 (-0.10000000000001918)\n",
      "Epoch 079/100 | Loss 0.0169 | Win/lose count 19.599999999999994/22.20000000000005 (-2.6000000000000547)\n",
      "Epoch 080/100 | Loss 0.0213 | Win/lose count 14.000000000000007/19.600000000000005 (-5.599999999999998)\n",
      "Epoch 081/100 | Loss 0.0400 | Win/lose count 11.600000000000005/20.200000000000006 (-8.600000000000001)\n"
     ]
    },
    {
     "name": "stdout",
     "output_type": "stream",
     "text": [
      "Epoch 082/100 | Loss 0.0172 | Win/lose count 18.0/20.600000000000037 (-2.600000000000037)\n",
      "Epoch 083/100 | Loss 0.0192 | Win/lose count 18.799999999999997/20.400000000000038 (-1.6000000000000405)\n",
      "Epoch 084/100 | Loss 0.0317 | Win/lose count 16.000000000000007/23.10000000000004 (-7.100000000000033)\n",
      "Epoch 085/100 | Loss 0.0257 | Win/lose count 14.800000000000008/24.400000000000013 (-9.600000000000005)\n",
      "Epoch 086/100 | Loss 0.0150 | Win/lose count 19.199999999999996/16.299999999999965 (2.9000000000000306)\n",
      "Epoch 087/100 | Loss 0.0268 | Win/lose count 20.39999999999999/22.000000000000057 (-1.6000000000000654)\n",
      "Epoch 088/100 | Loss 0.0151 | Win/lose count 17.6/21.700000000000053 (-4.100000000000051)\n",
      "Epoch 089/100 | Loss 0.0192 | Win/lose count 16.800000000000004/19.900000000000027 (-3.1000000000000227)\n",
      "Epoch 090/100 | Loss 0.0174 | Win/lose count 14.800000000000008/26.400000000000063 (-11.600000000000055)\n",
      "Epoch 091/100 | Loss 0.0244 | Win/lose count 19.199999999999996/24.300000000000065 (-5.100000000000069)\n",
      "Epoch 092/100 | Loss 0.0237 | Win/lose count 10.800000000000004/22.400000000000055 (-11.600000000000051)\n",
      "Epoch 093/100 | Loss 0.0136 | Win/lose count 19.599999999999994/17.19999999999998 (2.400000000000013)\n",
      "Epoch 094/100 | Loss 0.0245 | Win/lose count 15.600000000000009/19.200000000000014 (-3.600000000000005)\n",
      "Epoch 095/100 | Loss 0.0230 | Win/lose count 11.600000000000005/22.200000000000056 (-10.600000000000051)\n",
      "Epoch 096/100 | Loss 0.0327 | Win/lose count 12.400000000000006/22.00000000000003 (-9.600000000000023)\n",
      "Epoch 097/100 | Loss 0.0175 | Win/lose count 8.000000000000002/21.10000000000002 (-13.100000000000017)\n",
      "Epoch 098/100 | Loss 0.0229 | Win/lose count 16.800000000000004/17.899999999999984 (-1.09999999999998)\n",
      "Epoch 099/100 | Loss 0.0272 | Win/lose count 20.39999999999999/17.999999999999996 (2.399999999999995)\n"
     ]
    },
    {
     "data": {
      "text/html": [
       "<video alt=\"test\" controls>\n",
       "                <source src=\"data:video/mp4;base64,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\" type=\"video/mp4\" />\n",
       "             </video>"
      ],
      "text/plain": [
       "<IPython.core.display.HTML object>"
      ]
     },
     "execution_count": 19,
     "metadata": {},
     "output_type": "execute_result"
    }
   ],
   "source": [
    "# Training\n",
    "epochs_train = 100\n",
    "env = EnvironmentExploring(grid_size=size, max_time=T, temperature=0.3)\n",
    "agent = DQN_CNN(size, lr=.1, epsilon = 0.1, memory_size=2000, batch_size = 32,n_state=3)\n",
    "train_explore(agent, env, epochs_train, prefix='cnn_train_explore')\n",
    "HTML(display_videos('cnn_train_explore90.mp4'))"
   ]
  },
  {
   "cell_type": "code",
   "execution_count": 20,
   "metadata": {},
   "outputs": [
    {
     "name": "stdout",
     "output_type": "stream",
     "text": [
      "Win/lose count 25.5/2.0. Average score (23.5)\n",
      "Win/lose count 15.5/6.0. Average score (16.5)\n",
      "Win/lose count 28.0/3.0. Average score (19.333333333333332)\n",
      "Win/lose count 18.0/3.0. Average score (18.25)\n",
      "Win/lose count 24.0/5.0. Average score (18.4)\n",
      "Win/lose count 25.5/4.0. Average score (18.916666666666668)\n",
      "Win/lose count 18.0/6.0. Average score (17.928571428571427)\n",
      "Win/lose count 20.0/8.0. Average score (17.1875)\n",
      "Win/lose count 21.5/2.0. Average score (17.444444444444443)\n",
      "Win/lose count 16.0/1.0. Average score (17.2)\n",
      "Final score: 17.2\n"
     ]
    },
    {
     "data": {
      "text/html": [
       "<video alt=\"test\" controls>\n",
       "                <source src=\"data:video/mp4;base64,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\" type=\"video/mp4\" />\n",
       "             </video>"
      ],
      "text/plain": [
       "<IPython.core.display.HTML object>"
      ]
     },
     "execution_count": 20,
     "metadata": {},
     "output_type": "execute_result"
    }
   ],
   "source": [
    "# Evaluation\n",
    "test(agent,env,epochs_test,prefix='cnn_test_explore')\n",
    "HTML(display_videos('cnn_test_explore8.mp4'))"
   ]
  },
  {
   "cell_type": "markdown",
   "metadata": {},
   "source": [
    "We can see that the agent actually explores effectively now. The scores in the training are negative because we penalize visiting the cells that have already been visited. Our agent is much better than the previous one."
   ]
  },
  {
   "cell_type": "markdown",
   "metadata": {},
   "source": [
    "***\n",
    "***\n",
    "__BONUS question__ Use the expert DQN from the previous question to generate some winning games. Train a model that mimicks its behavior. Compare the performances."
   ]
  },
  {
   "cell_type": "markdown",
   "metadata": {},
   "source": [
    "***"
   ]
  }
 ],
 "metadata": {
  "kernelspec": {
   "display_name": "Python 3",
   "language": "python",
   "name": "python3"
  },
  "language_info": {
   "codemirror_mode": {
    "name": "ipython",
    "version": 3
   },
   "file_extension": ".py",
   "mimetype": "text/x-python",
   "name": "python",
   "nbconvert_exporter": "python",
   "pygments_lexer": "ipython3",
   "version": "3.6.8"
  }
 },
 "nbformat": 4,
 "nbformat_minor": 2
}
